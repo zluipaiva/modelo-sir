{
 "cells": [
  {
   "cell_type": "code",
   "execution_count": 2,
   "metadata": {
    "collapsed": true
   },
   "outputs": [],
   "source": [
    "import matplotlib.pyplot as plt\n",
    "import numpy as np"
   ]
  },
  {
   "cell_type": "code",
   "execution_count": 14,
   "metadata": {
    "collapsed": true
   },
   "outputs": [],
   "source": [
    "SUSCEPTIBLE = 0\n",
    "INFECTED = 1\n",
    "RECOVERED = 2\n",
    "\n",
    "def init(N):\n",
    "    L = np.sqrt(N)\n",
    "    \n",
    "    if not L.is_integer():\n",
    "        raise 'N must be a square'\n",
    "    \n",
    "    cells = np.empty(N)\n",
    "    cells.fill(SUSCEPTIBLE)\n",
    "    cells[0] = INFECTED\n",
    "    \n",
    "    neighbors_list = np.empty((N, 4), dtype=int)\n",
    "    for i in range(N):\n",
    "        up = i + 1\n",
    "        down = i - 1\n",
    "        left = i - L\n",
    "        right = i + L\n",
    "        \n",
    "        if i % L == 0:\n",
    "            down = i + L - 1\n",
    "        if (i + 1) % L == 0:\n",
    "            up = i - L + 1\n",
    "        if i < L:\n",
    "            left = N - L + i\n",
    "        if i < N and i >= N - L:\n",
    "            right = i - (N - L)\n",
    "            \n",
    "        neighbors_list[i] = [up, right, down, left]\n",
    "        \n",
    "    return cells, neighbors_list"
   ]
  },
  {
   "cell_type": "code",
   "execution_count": 25,
   "metadata": {},
   "outputs": [],
   "source": [
    "def simulate(N, prob_contamination, prob_recovery):\n",
    "    cells, neighbors_list = init(N)\n",
    "\n",
    "    susceptible_count = np.count_nonzero(cells == SUSCEPTIBLE)\n",
    "    infected_count = np.count_nonzero(cells == INFECTED)\n",
    "    recovered_count = np.count_nonzero(cells == RECOVERED)\n",
    "\n",
    "    susceptible_over_time = [susceptible_count]\n",
    "    infected_over_time = [infected_count]\n",
    "    recovered_over_time = [recovered_count]\n",
    "\n",
    "    while infected_count != N and infected_count != 0:\n",
    "        for i in range(N):\n",
    "            if (cells[i] != INFECTED):\n",
    "                continue\n",
    "\n",
    "            r = np.random.uniform()\n",
    "\n",
    "            if (r < prob_recovery):\n",
    "                cells[i] = RECOVERED\n",
    "                infected_count -= 1\n",
    "                recovered_count += 1\n",
    "\n",
    "            neighbors = neighbors_list[i]\n",
    "\n",
    "            for neighbor in neighbors:\n",
    "                if (cells[neighbor] == INFECTED or cells[neighbor] == RECOVERED):\n",
    "                    continue\n",
    "\n",
    "                if (r < prob_contamination):\n",
    "                    cells[neighbor] = INFECTED\n",
    "                    infected_count += 1\n",
    "                    susceptible_count -= 1\n",
    "\n",
    "        susceptible_over_time.append(susceptible_count)\n",
    "        infected_over_time.append(infected_count)\n",
    "        recovered_over_time.append(recovered_count)\n",
    "\n",
    "    return susceptible_over_time, infected_over_time, recovered_over_time\n"
   ]
  },
  {
   "cell_type": "code",
   "execution_count": null,
   "metadata": {
    "collapsed": true
   },
   "outputs": [],
   "source": [
    "N = 100\n",
    "\n",
    "probs_contamination = [0.1, 0.3, 0.01]\n",
    "probs_recovery = [0.1, 0.01, 0.3]\n",
    "\n",
    "susceptible_over_time_arr = []\n",
    "infected_over_time_arr = []\n",
    "recovered_over_time_arr = []\n",
    "\n",
    "for i in enumerate(probs_contamination):\n",
    "    susceptible_over_time, infected_over_time, recovered_over_time = simulate(N, probs_contamination[i], probs_recovery[i])\n",
    "    \n",
    "    \n",
    "\n",
    "\n",
    "fig, ax = plt.subplots()\n",
    "ax.plot(susceptible_over_time, label=\"susceptible\")\n",
    "ax.plot(infected_over_time, label=\"infected\")\n",
    "ax.plot(recovered_over_time, label=\"recovered\")\n",
    "\n",
    "ax.legend()\n",
    "\n",
    "plt.show()"
   ]
  }
 ],
 "metadata": {
  "kernelspec": {
   "display_name": "Python 3",
   "language": "python",
   "name": "python3"
  },
  "language_info": {
   "codemirror_mode": {
    "name": "ipython",
    "version": 3
   },
   "file_extension": ".py",
   "mimetype": "text/x-python",
   "name": "python",
   "nbconvert_exporter": "python",
   "pygments_lexer": "ipython3",
   "version": "3.6.3"
  }
 },
 "nbformat": 4,
 "nbformat_minor": 2
}
