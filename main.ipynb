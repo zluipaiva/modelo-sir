{
 "cells": [
  {
   "cell_type": "code",
   "execution_count": 1,
   "metadata": {},
   "outputs": [],
   "source": [
    "import matplotlib.pyplot as plt\n",
    "import numpy as np"
   ]
  },
  {
   "cell_type": "code",
   "execution_count": 27,
   "metadata": {},
   "outputs": [],
   "source": [
    "SUSCEPTIBLE = 0\n",
    "INFECTED = 1\n",
    "RECOVERED = 2\n",
    "\n",
    "def init(N):\n",
    "    L = np.sqrt(N)\n",
    "    \n",
    "    if not L.is_integer():\n",
    "        raise 'N must be a square'\n",
    "    \n",
    "    cells = np.empty(N)\n",
    "    cells.fill(SUSCEPTIBLE)\n",
    "    cells[0] = INFECTED\n",
    "    \n",
    "    neighbors_list = []\n",
    "    for i in range(N):\n",
    "        up = i + 1\n",
    "        down = i - 1\n",
    "        left = i - L\n",
    "        right = i + L\n",
    "        \n",
    "        if i % L == 0:\n",
    "            down = i + L - 1\n",
    "        if (i + 1) % L == 0:\n",
    "            up = i - L + 1\n",
    "        if i < L:\n",
    "            left = N - L + i\n",
    "        if i < N and i >= N - L:\n",
    "            right = i - (N - L)\n",
    "            \n",
    "        neighbors_list.append([up, right, down, left])\n",
    "        \n",
    "    return cells, neighbors_list"
   ]
  },
  {
   "cell_type": "code",
   "execution_count": 28,
   "metadata": {},
   "outputs": [
    {
     "name": "stdout",
     "output_type": "stream",
     "text": [
      "[1. 0. 0. 0. 0. 0. 0. 0. 0. 0. 0. 0. 0. 0. 0. 0. 0. 0. 0. 0. 0. 0. 0. 0.\n",
      " 0.]\n"
     ]
    }
   ],
   "source": [
    "N = 5*5\n",
    "\n",
    "cells, neighbors_list = init(N)\n",
    "\n",
    "prob_contamination = 0.1\n",
    "prob_recovery = 0.1\n",
    "\n",
    "susceptible_count = cells.count(SUSCEPTIBLE)\n",
    "infected_count = cells.count(INFECTED)\n",
    "recovered_count = cells.count(RECOVERED)\n",
    "\n",
    "while infected_count != N and infected_count != 0:\n",
    "    for i in range(N):\n",
    "        if (i != INFECTED):\n",
    "            continue\n",
    "\n",
    "        neighbors = neighbors_list[i]\n",
    "\n",
    "        for neighbor in neighbors:\n",
    "            if (i != INFECTED)"
   ]
  }
 ],
 "metadata": {
  "kernelspec": {
   "display_name": "Python 3",
   "language": "python",
   "name": "python3"
  },
  "language_info": {
   "codemirror_mode": {
    "name": "ipython",
    "version": 3
   },
   "file_extension": ".py",
   "mimetype": "text/x-python",
   "name": "python",
   "nbconvert_exporter": "python",
   "pygments_lexer": "ipython3",
   "version": "3.7.3"
  }
 },
 "nbformat": 4,
 "nbformat_minor": 2
}
